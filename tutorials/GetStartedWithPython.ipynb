{
 "cells": [
  {
   "cell_type": "markdown",
   "metadata": {},
   "source": [
    "# Get Started with Python"
   ]
  },
  {
   "cell_type": "markdown",
   "metadata": {},
   "source": [
    "Welcome to Python!\n",
    "Let's start with \"Hello World\".\n",
    "Use the print command to display things to the screen."
   ]
  },
  {
   "cell_type": "code",
   "execution_count": 22,
   "metadata": {},
   "outputs": [
    {
     "name": "stdout",
     "output_type": "stream",
     "text": [
      "Hello World!\n"
     ]
    }
   ],
   "source": [
    "print('Hello World!')"
   ]
  },
  {
   "cell_type": "markdown",
   "metadata": {},
   "source": [
    "## Arithmatic"
   ]
  },
  {
   "cell_type": "markdown",
   "metadata": {},
   "source": [
    "Let's assign two variables, a and b, and go through Python's basic arithmatic syntax."
   ]
  },
  {
   "cell_type": "code",
   "execution_count": 23,
   "metadata": {},
   "outputs": [
    {
     "name": "stdout",
     "output_type": "stream",
     "text": [
      "12\n",
      "4\n",
      "32\n",
      "2.0\n",
      "65536\n"
     ]
    }
   ],
   "source": [
    "a = 4\n",
    "b = 8\n",
    "\n",
    "# Addition\n",
    "print(a + b)\n",
    "\n",
    "# Subtraction\n",
    "print(b - a)\n",
    "\n",
    "# Multiplication\n",
    "print(a*b)\n",
    "\n",
    "# Division\n",
    "print(b/a)\n",
    "\n",
    "# Power (a^b)\n",
    "print(a**b)"
   ]
  },
  {
   "cell_type": "markdown",
   "metadata": {},
   "source": [
    "## Lists and Dictionaries"
   ]
  },
  {
   "cell_type": "markdown",
   "metadata": {},
   "source": [
    "Python lists are just lists of any type of data or object.  Below are some examples of different types of valid lists."
   ]
  },
  {
   "cell_type": "code",
   "execution_count": 24,
   "metadata": {},
   "outputs": [
    {
     "name": "stdout",
     "output_type": "stream",
     "text": [
      "[5.6, 'apple', [4, 5], 0, 'bannana']\n"
     ]
    }
   ],
   "source": [
    "list1 = [1, 2, 3, 4, 5]\n",
    "list2 = ['a', 'b', 'c']\n",
    "list3 = [[1,0], [5,6], [4,2], [7,3]]\n",
    "list4 = [5.6, 'apple', [4, 5], 0, 'bannana']\n",
    "print(list4)"
   ]
  },
  {
   "cell_type": "markdown",
   "metadata": {},
   "source": [
    "Elements in lists can be refered to by their index.  Python starts indexing at 0.  Let's print the first element in the lists we generated above."
   ]
  },
  {
   "cell_type": "code",
   "execution_count": 25,
   "metadata": {},
   "outputs": [
    {
     "name": "stdout",
     "output_type": "stream",
     "text": [
      "1 a [1, 0] 5.6\n"
     ]
    }
   ],
   "source": [
    "print(list1[0], list2[0], list3[0], list4[0])"
   ]
  },
  {
   "cell_type": "markdown",
   "metadata": {},
   "source": [
    "Dictonaries associate each entery with a key so the entry can be referenced by that key instead of an index."
   ]
  },
  {
   "cell_type": "code",
   "execution_count": 26,
   "metadata": {},
   "outputs": [
    {
     "name": "stdout",
     "output_type": "stream",
     "text": [
      "apple\n"
     ]
    }
   ],
   "source": [
    "dictionary = {'A':'apple','B':'bannana','C':'crayon','D':'dog'}\n",
    "print(dictionary['A'])"
   ]
  },
  {
   "cell_type": "markdown",
   "metadata": {},
   "source": [
    "## Data Science\n",
    "One of the most common libraries you'll use for data science is [numpy](https://www.numpy.org/).  Numpy handles arrays of numbers.  Lists can be very useful in some cases, but are limited in other.  For computations of large data sets, use numpy arrays."
   ]
  },
  {
   "cell_type": "code",
   "execution_count": 27,
   "metadata": {},
   "outputs": [
    {
     "name": "stdout",
     "output_type": "stream",
     "text": [
      "[ 3  7 11 15 19]\n",
      "[ 2 12 30 56 90]\n"
     ]
    }
   ],
   "source": [
    "import numpy as np\n",
    "\n",
    "array1 = np.array([1,3,5,7,9])\n",
    "array2 = np.array([2,4,6,8,10])\n",
    "\n",
    "print(array1+array2)\n",
    "\n",
    "print(array1*array2)"
   ]
  },
  {
   "cell_type": "markdown",
   "metadata": {},
   "source": [
    "numpy also includes a variety of special functions"
   ]
  },
  {
   "cell_type": "code",
   "execution_count": 28,
   "metadata": {},
   "outputs": [
    {
     "name": "stdout",
     "output_type": "stream",
     "text": [
      "[1.         1.73205081 2.23606798 2.64575131 3.        ]\n",
      "[ 0.90929743 -0.7568025  -0.2794155   0.98935825 -0.54402111]\n",
      "[-0.9899925   0.75390225  0.0044257  -0.75968791  0.98870462]\n"
     ]
    }
   ],
   "source": [
    "print(np.sqrt(array1))\n",
    "\n",
    "print(np.sin(array2))\n",
    "\n",
    "print(np.cos(array1+array2))"
   ]
  },
  {
   "cell_type": "markdown",
   "metadata": {},
   "source": [
    "Another library you will frequently use is [scipy](https://www.scipy.org/).  Scipy contains many of the same advanced mathematical functions as numpy, as well as more advanced special functions, integraion, interpolation, optimization, signal processing, linear algebra, and statistical methods."
   ]
  },
  {
   "cell_type": "code",
   "execution_count": 29,
   "metadata": {},
   "outputs": [],
   "source": [
    "import scipy.special as spcl\n",
    "import scipy.integrate as intg\n",
    "import scipy.interpolate as intp\n",
    "import scipy.optimize as optm\n",
    "\n",
    "# np.linspace(a,b,N) creates a N length array of equally spaced values between a and b\n",
    "x = np.linspace(0,10,100)\n",
    "\n",
    "# calulate the Bessel function of the first kind of 0th order\n",
    "y = spcl.j0(x)\n",
    "\n",
    "# integrate the 0th order Bessel function of the first kind from 0 to 5\n",
    "I = intg.quad(spcl.j0, 0., 5.)\n",
    "\n",
    "# interpolate the 0th order Bessel function values to higher resolution\n",
    "B = intp.interp1d(x,y)\n",
    "x2 = np.linspace(0,10,300)\n",
    "y2 = B(x2)\n",
    "\n",
    "# find the minimum of the 0th order Bessel function\n",
    "r = optm.minimize_scalar(spcl.j0)\n"
   ]
  },
  {
   "cell_type": "markdown",
   "metadata": {},
   "source": [
    "Both numpy and scipy are extremely powerful libraries, and it is not practical to give a full account of all their capabilities here.  For more comprehensive tutorials and documentation, check out the [numpy](https://www.numpy.org/) and [scipy](https://www.scipy.org/) websites."
   ]
  },
  {
   "cell_type": "markdown",
   "metadata": {},
   "source": [
    "## Visualization\n",
    "The primary data plotting library is [matplotlib](https://matplotlib.org/).  This library is designed to mimic a lot of matlab's plotting functionality and gives a lot of flexibility in how data is displayed.  Let's plot the results of our scipy examples to see how this works\n",
    "\n",
    "Start with plotting a line (the Bessel function)."
   ]
  },
  {
   "cell_type": "code",
   "execution_count": 30,
   "metadata": {},
   "outputs": [
    {
     "data": {
      "text/plain": [
       "[<matplotlib.lines.Line2D at 0x181a231da0>]"
      ]
     },
     "execution_count": 30,
     "metadata": {},
     "output_type": "execute_result"
    },
    {
     "data": {
      "image/png": "[encoded data removed]",
      "text/plain": [
       "<Figure size 432x288 with 1 Axes>"
      ]
     },
     "metadata": {
      "needs_background": "light"
     },
     "output_type": "display_data"
    }
   ],
   "source": [
    "import matplotlib.pyplot as plt\n",
    "# the following line is needed for plots to display in jupyter notebooks\n",
    "%matplotlib inline\n",
    "\n",
    "plt.plot(x,y)"
   ]
  },
  {
   "cell_type": "markdown",
   "metadata": {},
   "source": [
    "This plot should really have some axis labels.  Let's add them."
   ]
  },
  {
   "cell_type": "code",
   "execution_count": 31,
   "metadata": {},
   "outputs": [
    {
     "data": {
      "text/plain": [
       "Text(0, 0.5, 'J$_0$(x)')"
      ]
     },
     "execution_count": 31,
     "metadata": {},
     "output_type": "execute_result"
    },
    {
     "data": {
      "image/png": "[encoded data removed]",
      "text/plain": [
       "<Figure size 432x288 with 1 Axes>"
      ]
     },
     "metadata": {
      "needs_background": "light"
     },
     "output_type": "display_data"
    }
   ],
   "source": [
    "plt.plot(x,y)\n",
    "plt.xlabel('x')\n",
    "plt.ylabel('J$_0$(x)')"
   ]
  },
  {
   "cell_type": "markdown",
   "metadata": {},
   "source": [
    "Now let's plot the original Bessel function as points and the interpolated Bessel function as lines between the points.  The two should lie on top of each other."
   ]
  },
  {
   "cell_type": "code",
   "execution_count": 32,
   "metadata": {},
   "outputs": [
    {
     "data": {
      "text/plain": [
       "Text(0, 0.5, 'J$_0$(x)')"
      ]
     },
     "execution_count": 32,
     "metadata": {},
     "output_type": "execute_result"
    },
    {
     "data": {
      "image/png": "[encoded data removed]",
      "text/plain": [
       "<Figure size 432x288 with 1 Axes>"
      ]
     },
     "metadata": {
      "needs_background": "light"
     },
     "output_type": "display_data"
    }
   ],
   "source": [
    "plt.plot(x,y,linestyle=':',linewidth=3)\n",
    "plt.plot(x2,y2)\n",
    "plt.xlabel('x')\n",
    "plt.ylabel('J$_0$(x)')"
   ]
  },
  {
   "cell_type": "markdown",
   "metadata": {},
   "source": [
    "Finally, let's confirm the calculated minima matches the plot."
   ]
  },
  {
   "cell_type": "code",
   "execution_count": 33,
   "metadata": {},
   "outputs": [
    {
     "name": "stdout",
     "output_type": "stream",
     "text": [
      "Minima occurs at x =  3.8317059554863437\n"
     ]
    },
    {
     "data": {
      "text/plain": [
       "Text(0, 0.5, 'J$_0$(x)')"
      ]
     },
     "execution_count": 33,
     "metadata": {},
     "output_type": "execute_result"
    },
    {
     "data": {
      "image/png": "[encoded data removed]",
      "text/plain": [
       "<Figure size 432x288 with 1 Axes>"
      ]
     },
     "metadata": {
      "needs_background": "light"
     },
     "output_type": "display_data"
    }
   ],
   "source": [
    "print('Minima occurs at x = ', r.x)\n",
    "\n",
    "plt.plot(x,y)\n",
    "plt.scatter(r.x,spcl.j0(r.x))\n",
    "plt.xlabel('x')\n",
    "plt.ylabel('J$_0$(x)')"
   ]
  },
  {
   "cell_type": "markdown",
   "metadata": {},
   "source": [
    "Similar to numpy and scipy, matplotlib is an extremely powerful and versitile library, and it is impossible to give a full account of its functionallity here.  Check out the [matplotlib](https://matplotlib.org/) website for more documetation and resources to help you get started with visualization in python."
   ]
  },
  {
   "cell_type": "markdown",
   "metadata": {},
   "source": [
    "## Conclusion\n",
    "Python is an extremely powerful and versitile programing language.  This tutorial is only intended as a quick introduction for data scientists, but there are many [resources](https://wiki.python.org/moin/BeginnersGuide/Programmers) available if you would like a more thorough tutorial.  Python is also a very friendly language for jumping in and learning as you go!  Online documentation for most well developed packages tends to be quite good and there is a very active community of python users and developers that provide useful tips and guidance.  Happy coding!"
   ]
  }
 ],
 "metadata": {
  "kernelspec": {
   "display_name": "Python 3",
   "language": "python",
   "name": "python3"
  },
  "language_info": {
   "codemirror_mode": {
    "name": "ipython",
    "version": 3
   },
   "file_extension": ".py",
   "mimetype": "text/x-python",
   "name": "python",
   "nbconvert_exporter": "python",
   "pygments_lexer": "ipython3",
   "version": "3.7.6"
  }
 },
 "nbformat": 4,
 "nbformat_minor": 4
}
