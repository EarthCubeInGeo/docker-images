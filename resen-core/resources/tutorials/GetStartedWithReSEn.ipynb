{
 "cells": [
  {
   "cell_type": "markdown",
   "metadata": {},
   "source": [
    "# Get Started with ReSEn\n",
    "\n",
    "Welcome to the Reusable Software Environment (ReSEn) platform!  In this tutorial, we will introduce you to many of the packages installed in ReSEn that are specifically useful for geospace science.  We are only going go go over basic use cases here - for detailed explination of packages, please see the tutorial/documentation specific to that package."
   ]
  },
  {
   "cell_type": "markdown",
   "metadata": {},
   "source": [
    "## Space science software\n",
    "Resen gives you the ability to use common comunity packages without installing them."
   ]
  },
  {
   "cell_type": "markdown",
   "metadata": {},
   "source": [
    "spacepy allows you to ..."
   ]
  },
  {
   "cell_type": "markdown",
   "metadata": {},
   "source": [
    "pyglow gives you access to common models"
   ]
  },
  {
   "cell_type": "markdown",
   "metadata": {},
   "source": [
    "## Python APIs for accessing data\n",
    "Many python packages come with the ability to fetch and read data files from particular instrument providers.\n",
    "i.e. mangopy"
   ]
  },
  {
   "cell_type": "markdown",
   "metadata": {},
   "source": [
    "i. e. mangopy data fetching"
   ]
  },
  {
   "cell_type": "markdown",
   "metadata": {},
   "source": [
    "Also: MadrigalWeb"
   ]
  },
  {
   "cell_type": "markdown",
   "metadata": {},
   "source": [
    "## Accessing your own data\n",
    "You can upload your own data sets to your jupyter notebook."
   ]
  },
  {
   "cell_type": "markdown",
   "metadata": {},
   "source": [
    "Try this by downloading our test data set and uploading it to your jupyter server"
   ]
  },
  {
   "cell_type": "markdown",
   "metadata": {},
   "source": [
    "## Get Results\n",
    "You can use this dataset with tools available in Resen to quickly write analysis code and visualizing your results"
   ]
  },
  {
   "cell_type": "markdown",
   "metadata": {},
   "source": [
    "# apexpy\n",
    "apexpy is a python wrapper around the FORTRAN implimentation of the Apex magnetic coordinate system.  It allows for converting between geodetic, apex, and quasidipole magnetic coordinates, as described by Laundal and Richmond, 2016."
   ]
  },
  {
   "cell_type": "code",
   "execution_count": 10,
   "metadata": {},
   "outputs": [
    {
     "ename": "ModuleNotFoundError",
     "evalue": "No module named 'apexpy'",
     "output_type": "error",
     "traceback": [
      "\u001b[0;31m---------------------------------------------------------------------------\u001b[0m",
      "\u001b[0;31mModuleNotFoundError\u001b[0m                       Traceback (most recent call last)",
      "\u001b[0;32m<ipython-input-10-332403b855a1>\u001b[0m in \u001b[0;36m<module>\u001b[0;34m\u001b[0m\n\u001b[0;32m----> 1\u001b[0;31m \u001b[0;32mfrom\u001b[0m \u001b[0mapexpy\u001b[0m \u001b[0;32mimport\u001b[0m \u001b[0mApex\u001b[0m\u001b[0;34m\u001b[0m\u001b[0;34m\u001b[0m\u001b[0m\n\u001b[0m\u001b[1;32m      2\u001b[0m \u001b[0;34m\u001b[0m\u001b[0m\n\u001b[1;32m      3\u001b[0m \u001b[0;31m# Initialize an instance of the Apex class with the year\u001b[0m\u001b[0;34m\u001b[0m\u001b[0;34m\u001b[0m\u001b[0;34m\u001b[0m\u001b[0m\n\u001b[1;32m      4\u001b[0m \u001b[0mA\u001b[0m \u001b[0;34m=\u001b[0m \u001b[0mApex\u001b[0m\u001b[0;34m(\u001b[0m\u001b[0mdate\u001b[0m\u001b[0;34m=\u001b[0m\u001b[0;36m2019.1\u001b[0m\u001b[0;34m)\u001b[0m\u001b[0;34m\u001b[0m\u001b[0;34m\u001b[0m\u001b[0m\n\u001b[1;32m      5\u001b[0m \u001b[0;34m\u001b[0m\u001b[0m\n",
      "\u001b[0;31mModuleNotFoundError\u001b[0m: No module named 'apexpy'"
     ]
    }
   ],
   "source": [
    "from apexpy import Apex\n",
    "\n",
    "# Initialize an instance of the Apex class with the year\n",
    "A = Apex(date=2019.1)\n",
    "\n",
    "# convert geodetic coordinates to modified apex coordinates\n",
    "mlat, mlon = A.convert(60,75,'geo','apex',height=300)\n",
    "\n",
    "# convert modified apex coordinates to geodetic coordinates\n",
    "glat, glon = A.convert(65,100,'apex','geo',height=300)\n",
    "\n",
    "# find the magnetic local time of a particular magnetic longitude at a given UT\n",
    "import datetime as dt\n",
    "mlt = A.mlon2mlt(120, dt.datetime(2019, 2, 10, 18, 0, 0))"
   ]
  },
  {
   "cell_type": "markdown",
   "metadata": {},
   "source": [
    "# spacepy\n",
    "spacepy is a python package that contains many utilities useful for working with space-based data sources."
   ]
  },
  {
   "cell_type": "code",
   "execution_count": 1,
   "metadata": {},
   "outputs": [
    {
     "ename": "ModuleNotFoundError",
     "evalue": "No module named 'spacepy'",
     "output_type": "error",
     "traceback": [
      "\u001b[0;31m---------------------------------------------------------------------------\u001b[0m",
      "\u001b[0;31mModuleNotFoundError\u001b[0m                       Traceback (most recent call last)",
      "\u001b[0;32m<ipython-input-1-69a01db7ab3a>\u001b[0m in \u001b[0;36m<module>\u001b[0;34m\u001b[0m\n\u001b[0;32m----> 1\u001b[0;31m \u001b[0;32mimport\u001b[0m \u001b[0mspacepy\u001b[0m \u001b[0;32mas\u001b[0m \u001b[0mspace\u001b[0m\u001b[0;34m\u001b[0m\u001b[0;34m\u001b[0m\u001b[0m\n\u001b[0m",
      "\u001b[0;31mModuleNotFoundError\u001b[0m: No module named 'spacepy'"
     ]
    }
   ],
   "source": [
    "import spacepy as space\n",
    "\n",
    "# time conversion\n",
    "# coordinate conversion\n",
    "# omni\n",
    "# pyCDF?"
   ]
  },
  {
   "cell_type": "code",
   "execution_count": null,
   "metadata": {},
   "outputs": [],
   "source": []
  }
 ],
 "metadata": {
  "kernelspec": {
   "display_name": "Python 3",
   "language": "python",
   "name": "python3"
  },
  "language_info": {
   "codemirror_mode": {
    "name": "ipython",
    "version": 3
   },
   "file_extension": ".py",
   "mimetype": "text/x-python",
   "name": "python",
   "nbconvert_exporter": "python",
   "pygments_lexer": "ipython3",
   "version": "3.6.8"
  }
 },
 "nbformat": 4,
 "nbformat_minor": 2
}
