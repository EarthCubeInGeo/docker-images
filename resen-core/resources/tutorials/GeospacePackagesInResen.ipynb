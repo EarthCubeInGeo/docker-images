{
 "cells": [
  {
   "cell_type": "markdown",
   "metadata": {},
   "source": [
    "# Geospace Packages in Resen\n",
    "This tutorial is a brief introduction to the some of the packages included in Resen that are particularly useful for geospace research.  Many of these packages have been developed by members of the geospace community to help users access data, models, and toolkits.  These packages can be very powerful and often included functionality to do a wide variety of things.  Rather than attempt to cover every feature of every package in Resen, this tutorial will introduce the general purpose and useage of each package and direct you to resources from the package developers for full documentation of the funcitonality."
   ]
  },
  {
   "cell_type": "markdown",
   "metadata": {},
   "source": [
    "## Apexpy\n",
    "Apexpy is python wrapper for the Apex fortran library, which allows for converting between geodetic and magnetic apex coordinates.  The Apex fortran library uses a spherical harmonics fit to IGRF, so coordinate conversions can be performed quickly without field-line tracing.\n",
    "\n",
    "[Documentation](https://apexpy.readthedocs.io/en/latest/index.html)\n",
    "[Source Code](https://github.com/aburrell/apexpy)"
   ]
  },
  {
   "cell_type": "code",
   "execution_count": 1,
   "metadata": {},
   "outputs": [
    {
     "ename": "SyntaxError",
     "evalue": "from __future__ imports must occur at the beginning of the file (<ipython-input-1-cb8e70d15bc0>, line 5)",
     "output_type": "error",
     "traceback": [
      "\u001b[0;36m  File \u001b[0;32m\"<ipython-input-1-cb8e70d15bc0>\"\u001b[0;36m, line \u001b[0;32m5\u001b[0m\n\u001b[0;31m    mlat, mlon = A.convert(60, 15, 'geo', 'apex', height=300)\u001b[0m\n\u001b[0m           ^\u001b[0m\n\u001b[0;31mSyntaxError\u001b[0m\u001b[0;31m:\u001b[0m from __future__ imports must occur at the beginning of the file\n"
     ]
    }
   ],
   "source": [
    ">>> from apexpy import Apex\n",
    ">>> from __future__ import print_function\n",
    ">>> A = Apex(date=2015.3)  # datetime objects are also supported\n",
    ">>> # geo to apex, scalar input\n",
    ">>> mlat, mlon = A.convert(60, 15, 'geo', 'apex', height=300)\n",
    ">>> print(\"{:.12f}, {:.12f}\".format(mlat, mlon))\n",
    "57.469573974609, 93.633583068848\n",
    ">>> # apex to geo, array input\n",
    ">>> glat, glon = A.convert([90, -90], 0, 'apex', 'geo', height=0)\n",
    ">>> print([\"{:.12f}, {:.12f}\".format(ll, glon[i]) for i,ll in enumerate(glat)])\n",
    "['83.099594116211, -84.594589233398', '-74.388267517090, 125.714927673340']\n",
    ">>> # geo to MLT\n",
    ">>> import datetime as dt\n",
    ">>> mlat, mlt = A.convert(60, 15, 'geo', 'mlt', datetime=dt.datetime(2015, 2, 10, 18, 0, 0))\n",
    ">>> print(\"{:.12f}, {:.12f}\".format(mlat, mlt))\n",
    "56.590423583984, 19.108103879293\n",
    ">>> # can also convert magnetic longitude to mlt\n",
    ">>> mlt = A.mlon2mlt(120, dt.datetime(2015, 2, 10, 18, 0, 0))\n",
    ">>> print(\"{:.2f}\".format(mlt))\n",
    "20.89\n"
   ]
  },
  {
   "cell_type": "markdown",
   "metadata": {},
   "source": [
    "## Basemap\n",
    "The matplotlib basemap toolkit is a library for plotting 2D data on maps in Python.  Basemap does not do any plotting on it’s own, but provides the facilities to transform coordinates to one of 25 different map projections (using the PROJ.4 C library). Matplotlib is then used to plot contours, images, vectors, lines or points in the transformed coordinates. Shoreline, river and political boundary datasets (from Generic Mapping Tools) are provided, along with methods for plotting them. The GEOS library is used internally to clip the coastline and polticial boundary features to the desired map projection region.\n",
    "\n",
    "**Note:** Basemap is being replaced with cartopy and will be depricated by 2020.  Whenever possible, use the cartopy package rather than basemap.\n",
    "\n",
    "[Documentation](https://matplotlib.org/basemap/)\n",
    "[Tutorials](https://basemaptutorial.readthedocs.io/en/latest/)\n",
    "[Source Code](https://github.com/matplotlib/basemap)"
   ]
  },
  {
   "cell_type": "code",
   "execution_count": 2,
   "metadata": {},
   "outputs": [
    {
     "ename": "ModuleNotFoundError",
     "evalue": "No module named 'mpl_toolkits.basemap'",
     "output_type": "error",
     "traceback": [
      "\u001b[0;31m---------------------------------------------------------------------------\u001b[0m",
      "\u001b[0;31mModuleNotFoundError\u001b[0m                       Traceback (most recent call last)",
      "\u001b[0;32m<ipython-input-2-7d1f6ecfe3a9>\u001b[0m in \u001b[0;36m<module>\u001b[0;34m\u001b[0m\n\u001b[0;32m----> 1\u001b[0;31m \u001b[0;32mfrom\u001b[0m \u001b[0mmpl_toolkits\u001b[0m\u001b[0;34m.\u001b[0m\u001b[0mbasemap\u001b[0m \u001b[0;32mimport\u001b[0m \u001b[0mBasemap\u001b[0m\u001b[0;34m\u001b[0m\u001b[0;34m\u001b[0m\u001b[0m\n\u001b[0m\u001b[1;32m      2\u001b[0m \u001b[0;32mimport\u001b[0m \u001b[0mmatplotlib\u001b[0m\u001b[0;34m.\u001b[0m\u001b[0mpyplot\u001b[0m \u001b[0;32mas\u001b[0m \u001b[0mplt\u001b[0m\u001b[0;34m\u001b[0m\u001b[0;34m\u001b[0m\u001b[0m\n\u001b[1;32m      3\u001b[0m \u001b[0;34m\u001b[0m\u001b[0m\n\u001b[1;32m      4\u001b[0m \u001b[0mmap\u001b[0m \u001b[0;34m=\u001b[0m \u001b[0mBasemap\u001b[0m\u001b[0;34m(\u001b[0m\u001b[0;34m)\u001b[0m\u001b[0;34m\u001b[0m\u001b[0;34m\u001b[0m\u001b[0m\n\u001b[1;32m      5\u001b[0m \u001b[0;34m\u001b[0m\u001b[0m\n",
      "\u001b[0;31mModuleNotFoundError\u001b[0m: No module named 'mpl_toolkits.basemap'"
     ]
    }
   ],
   "source": [
    "from mpl_toolkits.basemap import Basemap\n",
    "import matplotlib.pyplot as plt\n",
    "\n",
    "map = Basemap()\n",
    "\n",
    "map.drawcoastlines()\n",
    "\n",
    "plt.show()\n"
   ]
  },
  {
   "cell_type": "markdown",
   "metadata": {},
   "source": [
    "## Bokeh\n",
    "Bokeh is an interactive visualization library that targets modern web browsers for presentation. Its goal is to provide elegant, concise construction of versatile graphics, and to extend this capability with high-performance interactivity over very large or streaming datasets. \n",
    "\n",
    "[Documentation](https://bokeh.pydata.org/en/latest/)\n",
    "[Gallery](https://bokeh.pydata.org/en/latest/docs/gallery.html#gallery)\n",
    "[Source Code](https://github.com/bokeh/bokeh)"
   ]
  },
  {
   "cell_type": "code",
   "execution_count": 3,
   "metadata": {},
   "outputs": [
    {
     "ename": "ModuleNotFoundError",
     "evalue": "No module named 'bokeh'",
     "output_type": "error",
     "traceback": [
      "\u001b[0;31m---------------------------------------------------------------------------\u001b[0m",
      "\u001b[0;31mModuleNotFoundError\u001b[0m                       Traceback (most recent call last)",
      "\u001b[0;32m<ipython-input-3-b77b3709f796>\u001b[0m in \u001b[0;36m<module>\u001b[0;34m\u001b[0m\n\u001b[0;32m----> 1\u001b[0;31m \u001b[0;32mfrom\u001b[0m \u001b[0mbokeh\u001b[0m\u001b[0;34m.\u001b[0m\u001b[0mplotting\u001b[0m \u001b[0;32mimport\u001b[0m \u001b[0mfigure\u001b[0m\u001b[0;34m,\u001b[0m \u001b[0moutput_file\u001b[0m\u001b[0;34m,\u001b[0m \u001b[0mshow\u001b[0m\u001b[0;34m\u001b[0m\u001b[0;34m\u001b[0m\u001b[0m\n\u001b[0m\u001b[1;32m      2\u001b[0m \u001b[0;34m\u001b[0m\u001b[0m\n\u001b[1;32m      3\u001b[0m \u001b[0;31m# prepare some data\u001b[0m\u001b[0;34m\u001b[0m\u001b[0;34m\u001b[0m\u001b[0;34m\u001b[0m\u001b[0m\n\u001b[1;32m      4\u001b[0m \u001b[0mx\u001b[0m \u001b[0;34m=\u001b[0m \u001b[0;34m[\u001b[0m\u001b[0;36m1\u001b[0m\u001b[0;34m,\u001b[0m \u001b[0;36m2\u001b[0m\u001b[0;34m,\u001b[0m \u001b[0;36m3\u001b[0m\u001b[0;34m,\u001b[0m \u001b[0;36m4\u001b[0m\u001b[0;34m,\u001b[0m \u001b[0;36m5\u001b[0m\u001b[0;34m]\u001b[0m\u001b[0;34m\u001b[0m\u001b[0;34m\u001b[0m\u001b[0m\n\u001b[1;32m      5\u001b[0m \u001b[0my\u001b[0m \u001b[0;34m=\u001b[0m \u001b[0;34m[\u001b[0m\u001b[0;36m6\u001b[0m\u001b[0;34m,\u001b[0m \u001b[0;36m7\u001b[0m\u001b[0;34m,\u001b[0m \u001b[0;36m2\u001b[0m\u001b[0;34m,\u001b[0m \u001b[0;36m4\u001b[0m\u001b[0;34m,\u001b[0m \u001b[0;36m5\u001b[0m\u001b[0;34m]\u001b[0m\u001b[0;34m\u001b[0m\u001b[0;34m\u001b[0m\u001b[0m\n",
      "\u001b[0;31mModuleNotFoundError\u001b[0m: No module named 'bokeh'"
     ]
    }
   ],
   "source": [
    "from bokeh.plotting import figure, output_file, show\n",
    "\n",
    "# prepare some data\n",
    "x = [1, 2, 3, 4, 5]\n",
    "y = [6, 7, 2, 4, 5]\n",
    "\n",
    "# output to static HTML file\n",
    "output_file(\"lines.html\")\n",
    "\n",
    "# create a new plot with a title and axis labels\n",
    "p = figure(title=\"simple line example\", x_axis_label='x', y_axis_label='y')\n",
    "\n",
    "# add a line renderer with legend and line thickness\n",
    "p.line(x, y, legend=\"Temp.\", line_width=2)\n",
    "\n",
    "# show the results\n",
    "show(p)"
   ]
  },
  {
   "cell_type": "markdown",
   "metadata": {},
   "source": [
    "## Cartopy\n",
    "Cartopy is a Python package designed for geospatial data processing in order to produce maps and other geospatial data analyses.  Cartopy makes use of the powerful PROJ.4, NumPy and Shapely libraries and includes a programmatic interface built on top of Matplotlib for the creation of publication quality maps.\n",
    "\n",
    "[Documentation](https://scitools.org.uk/cartopy/docs/latest/)\n",
    "[Gallery](https://scitools.org.uk/cartopy/docs/latest/gallery/index.html)\n",
    "[Source Code](https://github.com/SciTools/cartopy)"
   ]
  },
  {
   "cell_type": "code",
   "execution_count": 4,
   "metadata": {},
   "outputs": [],
   "source": [
    "import cartopy.crs as ccrs\n",
    "import matplotlib.pyplot as plt\n",
    "\n",
    "ax = plt.axes(projection=ccrs.PlateCarree())\n",
    "ax.coastlines()\n",
    "\n",
    "plt.show()\n"
   ]
  },
  {
   "cell_type": "markdown",
   "metadata": {},
   "source": [
    "## DaViTpy\n",
    "DaViTpy (Data Visualization Toolkit) helps you access and visualize SuperDARN (Super Dual Auroral Radar Network) data.  [SuperDARN](http://vt.superdarn.org/tiki-index.php) consists of over 30 ground-based HF ionospheric radars that measure plasma characteristics throughout large portions of both the northern and southern hemispheres.\n",
    "\n",
    "[Documentation](http://davit.ece.vt.edu/davitpy/#)\n",
    "[Source Code](https://github.com/vtsuperdarn/davitpy)\n",
    "[Tutorials](https://github.com/vtsuperdarn/davitpy/tree/master/docs/notebook)"
   ]
  },
  {
   "cell_type": "markdown",
   "metadata": {},
   "source": [
    "## h5py\n",
    "The h5py package is a Pythonic interface to the [HDF5](https://www.hdfgroup.org/solutions/hdf5/) binary data format.  It lets you store huge amounts of numerical data, and easily manipulate that data from NumPy. HDF5 files are an increasingly common way to store scientific data and metadata, especially when data sets are large, complex, or multidimentional\n",
    "\n",
    "[Documentation](http://docs.h5py.org/en/stable/index.html)\n",
    "[Source Code](https://github.com/h5py/h5py)"
   ]
  },
  {
   "cell_type": "markdown",
   "metadata": {},
   "source": [
    "## Ipython\n",
    "[IPython](https://ipython.org/) provides a rich architecture for interactive computing with:\n",
    "- A powerful interactive shell.\n",
    "- A kernel for Jupyter.\n",
    "- Support for interactive data visualization and use of GUI toolkits.\n",
    "- Flexible, embeddable interpreters to load into your own projects.\n",
    "- Easy to use, high performance tools for parallel computing.\n",
    "\n",
    "[Documentation](https://ipython.readthedocs.io/en/stable/)\n",
    "[Gallery](https://github.com/jupyter/jupyter/wiki/A-gallery-of-interesting-Jupyter-Notebooks)\n",
    "[Source Code](https://github.com/ipython/ipython)"
   ]
  },
  {
   "cell_type": "markdown",
   "metadata": {},
   "source": [
    "## MadrigalWeb\n",
    "MadrigalWeb is a package that lets you write scripts to interact with the CEDAR Madrigal Database.  It lets you query the database, discover which data are available, and download data files. \n",
    "\n",
    "[Documentation](http://cedar.openmadrigal.org/docs/name/rr_python.html)\n",
    "[Examples](http://cedar.openmadrigal.org/docs/name/rt_python.html)"
   ]
  },
  {
   "cell_type": "code",
   "execution_count": 5,
   "metadata": {},
   "outputs": [
    {
     "ename": "SyntaxError",
     "evalue": "Missing parentheses in call to 'print'. Did you mean print('Example of call to getAllInstruments')? (<ipython-input-5-da2de5dd4168>, line 15)",
     "output_type": "error",
     "traceback": [
      "\u001b[0;36m  File \u001b[0;32m\"<ipython-input-5-da2de5dd4168>\"\u001b[0;36m, line \u001b[0;32m15\u001b[0m\n\u001b[0;31m    print 'Example of call to getAllInstruments'\u001b[0m\n\u001b[0m                                               ^\u001b[0m\n\u001b[0;31mSyntaxError\u001b[0m\u001b[0;31m:\u001b[0m Missing parentheses in call to 'print'. Did you mean print('Example of call to getAllInstruments')?\n"
     ]
    }
   ],
   "source": [
    "import madrigalWeb.madrigalWeb\n",
    "\n",
    "# constants\n",
    "user_fullname = 'Bill Rideout - automated test'\n",
    "user_email = 'brideout@haystack.mit.edu'\n",
    "user_affiliation = 'MIT Haystack'\n",
    "\n",
    "madrigalUrl = 'http://madrigal.haystack.mit.edu/madrigal'\n",
    "\n",
    "\n",
    "testData = madrigalWeb.madrigalWeb.MadrigalData(madrigalUrl)\n",
    "\n",
    "\n",
    "\n",
    "print 'Example of call to getAllInstruments'\n",
    "instList = testData.getAllInstruments()\n",
    "# print out Millstone\n",
    "for inst in instList:\n",
    "    if inst.code == 30:\n",
    "        print (str(inst) + '\\n')\n",
    "        \n",
    "\n",
    "print 'Example of call to getExperiments'\n",
    "expList = testData.getExperiments(30, 1998,1,19,0,0,0,1998,1,22,0,0,0)\n",
    "for exp in expList:\n",
    "    # should be only one\n",
    "    print (str(exp) + '\\n')\n",
    "\n",
    "\n",
    "print 'Example of call to getExperimentFiles'\n",
    "fileList = testData.getExperimentFiles(expList[0].id)\n",
    "for thisFile in fileList:\n",
    "    if thisFile.category == 1:\n",
    "        print (str(thisFile.name) + '\\n')\n",
    "        thisFilename = thisFile.name\n",
    "        break\n",
    "    \n",
    "print 'Example of downloadFile - simple and hdf5 formats:'\n",
    "result = testData.downloadFile(thisFilename, \"/tmp/test.txt\", \n",
    "                               user_fullname, user_email, user_affiliation, \"simple\")\n",
    "result = testData.downloadFile(thisFilename, \"/tmp/test.hdf5\", \n",
    "                               user_fullname, user_email, user_affiliation, \"simple\")\n",
    "\n",
    "print 'Example of simplePrint - only first 1000 characters printed'\n",
    "result = testData.simplePrint(thisFilename, user_fullname, user_email, user_affiliation)\n",
    "print result[:1000]\n",
    "print\n",
    "\n",
    "print 'Example of call to getExperimentFileParameters - only first 10 printed'\n",
    "fileParms = testData.getExperimentFileParameters(thisFilename)\n",
    "for i in range(10):\n",
    "    print fileParms[i]\n",
    "print\n",
    "\n",
    "\n",
    "print 'Example of call to isprint (prints data)'\n",
    "print(testData.isprint(thisFilename,\n",
    "                       'gdalt,ti',\n",
    "                       'filter=gdalt,500,600 filter=ti,1900,2000',\n",
    "                       user_fullname, user_email, user_affiliation))\n",
    "\n",
    "\n",
    "print 'Example of call to madCalculator (gets derived data at any time)'\n",
    "result = testData.madCalculator(1999,2,15,12,30,0,45,55,5,-170,-150,10,200,200,0,'sdwht,kp')\n",
    "for line in result:\n",
    "    for value in line:\n",
    "        print ('%8.2e ' % (value))\n",
    "    print('\\n')\n",
    "\n",
    "print 'Example of searching all Madrigal sites for an experiment - here we search for PFISR data'\n",
    "expList = testData.getExperiments(61,2008,4,1,0,0,0,2008,4,30,0,0,0,local=0)\n",
    "print expList[0]\n",
    "\n",
    "print 'Since this experiment is not local (note the experiment id = -1), we need to create a new MadrigalData object to get it'\n",
    "testData2 = madrigalWeb.madrigalWeb.MadrigalData(expList[0].madrigalUrl)\n",
    "\n",
    "print 'Now repeat the same calls as above to get PFISR data from the SRI site'\n",
    "expList2 = testData2.getExperiments(61,2008,4,1,0,0,0,2008,4,30,0,0,0,local=1)\n",
    "print 'This is a PFISR experiment'\n",
    "print expList2[0]\n",
    "\n"
   ]
  },
  {
   "cell_type": "markdown",
   "metadata": {},
   "source": [
    "## Mangopy\n",
    "Mangopy is a package for acessing and visualizing ASI data from the MANGO (Midlatitude Allsky-imaging Network for GeoSpace Observations) Network.  [MANGO](http://mango.sri.com/en/) consists of several red-line imagers throughout the contental United States.\n",
    "\n",
    "[Source Code](https://github.com/astib/MANGO)\n",
    "[Tutorial](https://github.com/astib/MANGO/blob/master/mangopy_tutorial.ipynb)"
   ]
  },
  {
   "cell_type": "code",
   "execution_count": 6,
   "metadata": {},
   "outputs": [
    {
     "name": "stdout",
     "output_type": "stream",
     "text": [
      "No data directory has been specified!  If data is downloaded, it will be saved to /var/folders/yf/c17s54f12c1bg0cxdywsxyxjssh4z4/T/MANGOData.  This is also where mangopy will look for existing data files.\n",
      "Attempting to download CApr1016.h5 from FTP server.\n",
      "Sucessfully downloaded CApr1016.h5\n"
     ]
    },
    {
     "data": {
      "image/png": "[encoded data removed]",
      "text/plain": [
       "<Figure size 432x288 with 1 Axes>"
      ]
     },
     "metadata": {
      "needs_background": "light"
     },
     "output_type": "display_data"
    }
   ],
   "source": [
    "from mangopy import Mango\n",
    "\n",
    "\n",
    "man = Mango()\n",
    "\n",
    "site = man.get_site_info('Capitol Reef Field Station')\n",
    "import datetime as dt\n",
    "time0 = dt.datetime(2016,4,10,5,30)\n",
    "man.plot(site,time0)\n",
    "\n"
   ]
  },
  {
   "cell_type": "markdown",
   "metadata": {},
   "source": [
    "## Matplotlib\n",
    "Matplotlib is a Python 2D plotting library which produces publication quality figures in a variety of hardcopy formats and interactive environments across platforms.\n",
    "\n",
    "[Documentation](https://matplotlib.org/)\n",
    "[Gallery](https://matplotlib.org/gallery/index.html)\n",
    "[Source Code](https://github.com/matplotlib/matplotlib)"
   ]
  },
  {
   "cell_type": "code",
   "execution_count": 7,
   "metadata": {},
   "outputs": [
    {
     "data": {
      "image/png": "[encoded data removed]",
      "text/plain": [
       "<Figure size 432x288 with 1 Axes>"
      ]
     },
     "metadata": {
      "needs_background": "light"
     },
     "output_type": "display_data"
    }
   ],
   "source": [
    "import matplotlib\n",
    "import matplotlib.pyplot as plt\n",
    "import numpy as np\n",
    "\n",
    "# Data for plotting\n",
    "t = np.arange(0.0, 2.0, 0.01)\n",
    "s = 1 + np.sin(2 * np.pi * t)\n",
    "\n",
    "fig, ax = plt.subplots()\n",
    "ax.plot(t, s)\n",
    "\n",
    "ax.set(xlabel='time (s)', ylabel='voltage (mV)',\n",
    "       title='About as simple as it gets, folks')\n",
    "ax.grid()\n",
    "\n",
    "fig.savefig(\"test.png\")\n",
    "plt.show()\n"
   ]
  },
  {
   "cell_type": "markdown",
   "metadata": {},
   "source": [
    "## NetCDF4\n",
    "Netcdf4-python is a Python interface to the netCDF C library.  [NetCDF](https://www.unidata.ucar.edu/software/netcdf/docs/netcdf_introduction.html) is a common file format typically used for storing large, multi-dimensional arrays of scientific data.\n",
    "\n",
    "[Documentation](https://unidata.github.io/netcdf4-python/netCDF4/index.html)\n",
    "[Source Code](https://github.com/Unidata/netcdf4-python)"
   ]
  },
  {
   "cell_type": "markdown",
   "metadata": {},
   "source": [
    "## NumPy\n",
    "NumPy is the fundamental package for scientific computing with Python. It contains among other things:\n",
    "- a powerful N-dimensional array object\n",
    "- sophisticated (broadcasting) functions\n",
    "- tools for integrating C/C++ and Fortran code\n",
    "- useful linear algebra, Fourier transform, and random number capabilities\n",
    "Besides its obvious scientific uses, NumPy can also be used as an efficient multi-dimensional container of generic data. Arbitrary data-types can be defined. This allows NumPy to seamlessly and speedily integrate with a wide variety of databases.\n",
    "\n",
    "**Note:** The numpy library is powerful, extensive, and well documented.  Rather than attempting to read the full documentation before you get started with numpy, it may be easier to find exactly what you're looking for through search engines as you need it!\n",
    "\n",
    "[Documentation](https://numpy.org/devdocs/)\n",
    "[Quickstart Tutorial](https://numpy.org/devdocs/user/quickstart.html)\n",
    "[Source Code](https://github.com/numpy/numpy)"
   ]
  },
  {
   "cell_type": "code",
   "execution_count": 8,
   "metadata": {},
   "outputs": [
    {
     "ename": "SyntaxError",
     "evalue": "invalid syntax (<ipython-input-8-0668e318775a>, line 18)",
     "output_type": "error",
     "traceback": [
      "\u001b[0;36m  File \u001b[0;32m\"<ipython-input-8-0668e318775a>\"\u001b[0;36m, line \u001b[0;32m18\u001b[0m\n\u001b[0;31m    <type 'numpy.ndarray'>\u001b[0m\n\u001b[0m    ^\u001b[0m\n\u001b[0;31mSyntaxError\u001b[0m\u001b[0;31m:\u001b[0m invalid syntax\n"
     ]
    }
   ],
   "source": [
    ">>> import numpy as np\n",
    ">>> a = np.arange(15).reshape(3, 5)\n",
    ">>> a\n",
    "array([[ 0,  1,  2,  3,  4],\n",
    "       [ 5,  6,  7,  8,  9],\n",
    "       [10, 11, 12, 13, 14]])\n",
    ">>> a.shape\n",
    "(3, 5)\n",
    ">>> a.ndim\n",
    "2\n",
    ">>> a.dtype.name\n",
    "'int64'\n",
    ">>> a.itemsize\n",
    "8\n",
    ">>> a.size\n",
    "15\n",
    ">>> type(a)\n",
    "<type 'numpy.ndarray'>\n",
    ">>> b = np.array([6, 7, 8])\n",
    ">>> b\n",
    "array([6, 7, 8])\n",
    ">>> type(b)\n",
    "<type 'numpy.ndarray'>\n"
   ]
  },
  {
   "cell_type": "markdown",
   "metadata": {},
   "source": [
    "## Pandas\n",
    "[Pandas (Python Data Analysis Library)](https://pandas.pydata.org/) provides high-performance, easy-to-use data structures and data analysis tools for the Python programming language.\n",
    "\n",
    "[Documentation](https://pandas.pydata.org/pandas-docs/stable/)\n",
    "[Tutorials](https://pandas.pydata.org/pandas-docs/stable/getting_started/tutorials.html)\n",
    "[Source Code](https://github.com/pandas-dev/pandas)"
   ]
  },
  {
   "cell_type": "markdown",
   "metadata": {},
   "source": [
    "## Pyglow\n",
    "pyglow is a Python module that wraps several upper atmosphere climatological models written in FORTRAN, such as the Horizontal Wind Model (HWM), the International Geomagnetic Reference Field (IGRF), the International Reference Ionosphere (IRI), and the Mass Spectrometer and Incoherent Scatter Radar (MSIS). Pyglow offers access to a variety of models and geophysical indices in a convenient, high-level object-oriented interface within Python.\n",
    "\n",
    "[Examples](https://github.com/timduly4/pyglow/tree/master/examples)\n",
    "[Source Code](https://github.com/timduly4/pyglow)"
   ]
  },
  {
   "cell_type": "code",
   "execution_count": 9,
   "metadata": {},
   "outputs": [
    {
     "ename": "ModuleNotFoundError",
     "evalue": "No module named 'pyglow'",
     "output_type": "error",
     "traceback": [
      "\u001b[0;31m---------------------------------------------------------------------------\u001b[0m",
      "\u001b[0;31mModuleNotFoundError\u001b[0m                       Traceback (most recent call last)",
      "\u001b[0;32m<ipython-input-9-26effe2852f7>\u001b[0m in \u001b[0;36m<module>\u001b[0;34m\u001b[0m\n\u001b[1;32m      3\u001b[0m \u001b[0;32mimport\u001b[0m \u001b[0mnumpy\u001b[0m \u001b[0;32mas\u001b[0m \u001b[0mnp\u001b[0m\u001b[0;34m\u001b[0m\u001b[0;34m\u001b[0m\u001b[0m\n\u001b[1;32m      4\u001b[0m \u001b[0;34m\u001b[0m\u001b[0m\n\u001b[0;32m----> 5\u001b[0;31m \u001b[0;32mimport\u001b[0m \u001b[0mpyglow\u001b[0m\u001b[0;34m\u001b[0m\u001b[0;34m\u001b[0m\u001b[0m\n\u001b[0m\u001b[1;32m      6\u001b[0m \u001b[0;34m\u001b[0m\u001b[0m\n\u001b[1;32m      7\u001b[0m \u001b[0;31m# Inputs:\u001b[0m\u001b[0;34m\u001b[0m\u001b[0;34m\u001b[0m\u001b[0;34m\u001b[0m\u001b[0m\n",
      "\u001b[0;31mModuleNotFoundError\u001b[0m: No module named 'pyglow'"
     ]
    }
   ],
   "source": [
    "import matplotlib.pyplot as plt\n",
    "from datetime import datetime\n",
    "import numpy as np\n",
    "\n",
    "import pyglow\n",
    "\n",
    "# Inputs:\n",
    "lat = 40.\n",
    "lon = -80.\n",
    "alt = 250.\n",
    "alts = np.linspace(100., 500., 101)\n",
    "dn = datetime(2015, 3, 23, 15, 30)\n",
    "\n",
    "ne_2012 = []\n",
    "ne_2016 = []\n",
    "\n",
    "# Calculate for both IRI model year 2012 and 2016:\n",
    "for alt in alts:\n",
    "    print(\"Computing alt=%3.1f km...\" % (alt))\n",
    "    pt = pyglow.Point(dn, lat, lon, alt)\n",
    "\n",
    "    pt.run_iri()  # default year is 2016\n",
    "    ne_2016.append(pt.ne)\n",
    "\n",
    "    pt.run_iri(version=2012)  # Can revert back to 2012 model, if necessary.\n",
    "    ne_2012.append(pt.ne)\n",
    "\n",
    "# Plot\n",
    "plt.figure(1)\n",
    "plt.clf()\n",
    "plt.semilogx(ne_2016, alts, 'bo-', label='IRI Model Year: 2016')\n",
    "plt.semilogx(ne_2012, alts, 'r.--', label='IRI Model Year: 2012')\n",
    "plt.grid()\n",
    "plt.xlabel(r'$n_e$ [cm$^{-3}$]')\n",
    "plt.ylabel('Altitude [km]')\n",
    "plt.title(r'%s UT, lat=%3.1f$^\\circ$, lon=%3.1f$^\\circ$' %\n",
    "          (dn.strftime('%Y-%m-%d %H:%M:%S'), lat, lon))\n",
    "plt.legend(loc=0)\n",
    "plt.draw()\n",
    "plt.show()"
   ]
  },
  {
   "cell_type": "markdown",
   "metadata": {},
   "source": [
    "## PyMongo\n",
    "PyMongo is a Python distribution containing tools for working with [MongoDB](https://www.mongodb.com/), and is the recommended way to work with MongoDB from Python.\n",
    "\n",
    "[Documentation](https://api.mongodb.com/python/current/)\n",
    "[Tutorials](https://api.mongodb.com/python/current/tutorial.html)\n",
    "[Source Code](https://github.com/mongodb/mongo-python-driver)"
   ]
  },
  {
   "cell_type": "markdown",
   "metadata": {},
   "source": [
    "## SciPy\n",
    "The [SciPy library](https://www.scipy.org/scipylib/index.html) is one of the core packages that make up the SciPy stack. It provides many user-friendly and efficient numerical routines such as routines for numerical integration, interpolation, optimization, linear algebra and statistics.\n",
    "\n",
    "[Documentation](https://docs.scipy.org/doc/scipy/reference/)\n",
    "[Tutorials](https://docs.scipy.org/doc/scipy/reference/tutorial/index.html)\n",
    "[Source Code](https://github.com/scipy/scipy/)"
   ]
  },
  {
   "cell_type": "markdown",
   "metadata": {},
   "source": [
    "## Sciunit\n",
    "Sciunits are efficient, lightweight, self-contained packages of computational experiments that can be guaranteed to repeat or reproduce regardless of deployment issues. Sciunit answers the call for a reusable research object that containerizes and stores applications simply and efficiently, facilitates sharing and collaboration, and eases the task of executing, understanding, and building on shared work. \n",
    "\n",
    "[Documentation](https://sciunit.run/docs/)\n",
    "[Source Code](https://bitbucket.org/geotrust/sciunit2/src/master/)"
   ]
  },
  {
   "cell_type": "markdown",
   "metadata": {},
   "source": [
    "## SGP4\n",
    "SGP4 computes the position and velocity of an earth-orbiting satellite, given the satellite’s TLE orbital elements from a source like Celestrak. It implements the most recent version of SGP4, and is regularly run against the SGP4 test suite to make sure that its satellite position predictions agree to within 0.1 mm of the predictions of the standard C++ implementation of the algorithm. This error is far less than the 1–3 km/day by which satellites themselves deviate from the ideal orbits described in TLE files.\n",
    "\n",
    "[Documentation](https://pypi.org/project/sgp4/)\n",
    "[Source Code](https://github.com/brandon-rhodes/python-sgp4)"
   ]
  },
  {
   "cell_type": "code",
   "execution_count": 10,
   "metadata": {},
   "outputs": [
    {
     "ename": "SyntaxError",
     "evalue": "invalid syntax (<ipython-input-10-656d71251e0e>, line 18)",
     "output_type": "error",
     "traceback": [
      "\u001b[0;36m  File \u001b[0;32m\"<ipython-input-10-656d71251e0e>\"\u001b[0;36m, line \u001b[0;32m18\u001b[0m\n\u001b[0;31m    (5576.056952..., -3999.371134..., -1521.957159...)\u001b[0m\n\u001b[0m                  ^\u001b[0m\n\u001b[0;31mSyntaxError\u001b[0m\u001b[0;31m:\u001b[0m invalid syntax\n"
     ]
    }
   ],
   "source": [
    ">>> from sgp4.earth_gravity import wgs72\n",
    ">>> from sgp4.io import twoline2rv\n",
    ">>>\n",
    ">>> line1 = ('1 00005U 58002B   00179.78495062  '\n",
    "...          '.00000023  00000-0  28098-4 0  4753')\n",
    ">>> line2 = ('2 00005  34.2682 348.7242 1859667 '\n",
    "...          '331.7664  19.3264 10.82419157413667')\n",
    ">>>\n",
    ">>> satellite = twoline2rv(line1, line2, wgs72)\n",
    ">>> position, velocity = satellite.propagate(\n",
    "...     2000, 6, 29, 12, 50, 19)\n",
    ">>>\n",
    ">>> print(satellite.error)    # nonzero on error\n",
    "0\n",
    ">>> print(satellite.error_message)\n",
    "None\n",
    ">>> print(position)\n",
    "(5576.056952..., -3999.371134..., -1521.957159...)\n",
    ">>> print(velocity)\n",
    "(4.772627..., 5.119817..., 4.275553...)\n"
   ]
  },
  {
   "cell_type": "markdown",
   "metadata": {},
   "source": [
    "## Spacepy\n",
    "SpacePy is a package for Python, targeted at the space sciences, that aims to make basic data analysis, modeling and visualization easier. It builds on the capabilities of the well-known NumPy and MatPlotLib packages. Publication quality output direct from analyses is emphasized among other goals:\n",
    "- Quickly obtain data\n",
    "- Create publications quality plots\n",
    "- Perform complicated analysis easily\n",
    "- Run common empirical models\n",
    "- Change coordinates effortlessly\n",
    "- Harness the power of Python\n",
    "\n",
    "[Documentation](https://pythonhosted.org/SpacePy/#)\n",
    "[Tutorials](https://pythonhosted.org/SpacePy/quickstart.html)\n",
    "[Source Code](https://github.com/spacepy/spacepy)"
   ]
  },
  {
   "cell_type": "markdown",
   "metadata": {},
   "source": [
    "## SQLAlchemy\n",
    "[SQLAlchemy](https://www.sqlalchemy.org/) is the Python SQL toolkit and Object Relational Mapper that gives application developers the full power and flexibility of SQL.  It provides a full suite of well known enterprise-level persistence patterns, designed for efficient and high-performing database access, adapted into a simple and Pythonic domain language.\n",
    "\n",
    "[Documentation](https://docs.sqlalchemy.org/en/13/)\n",
    "[Tutorials](https://www.sqlalchemy.org/library.html#tutorials)\n",
    "[Source Code](https://github.com/sqlalchemy/sqlalchemy)"
   ]
  },
  {
   "cell_type": "markdown",
   "metadata": {},
   "source": [
    "## SymPy\n",
    "[SymPy](https://www.sympy.org/en/index.html) is a Python library for symbolic mathematics. It aims to become a full-featured computer algebra system (CAS) while keeping the code as simple as possible in order to be comprehensible and easily extensible.\n",
    "\n",
    "[Documentation](https://docs.sympy.org/latest/index.html)\n",
    "[Tutorial](http://certik.github.io/scipy-2013-tutorial/html/index.html)\n",
    "[Source Code](https://github.com/sympy/sympy)"
   ]
  },
  {
   "cell_type": "code",
   "execution_count": 11,
   "metadata": {},
   "outputs": [
    {
     "ename": "SyntaxError",
     "evalue": "invalid syntax (<ipython-input-11-2e975bc232d9>, line 17)",
     "output_type": "error",
     "traceback": [
      "\u001b[0;36m  File \u001b[0;32m\"<ipython-input-11-2e975bc232d9>\"\u001b[0;36m, line \u001b[0;32m17\u001b[0m\n\u001b[0;31m    The second is if we want to perform a\u001b[0m\n\u001b[0m             ^\u001b[0m\n\u001b[0;31mSyntaxError\u001b[0m\u001b[0;31m:\u001b[0m invalid syntax\n"
     ]
    }
   ],
   "source": [
    ">>> from sympy import *\n",
    ">>> x, y, z = symbols(\"x y z\")\n",
    ">>> expr = cos(x) + 1\n",
    ">>> expr.subs(x, y)\n",
    "cos(y) + 1\n",
    ">>> expr.subs(x, 0)\n",
    ">>> expr = x**y\n",
    ">>> expr\n",
    "x**y\n",
    ">>> expr = expr.subs(y, x**y)\n",
    ">>> expr\n",
    "x**(x**y)\n",
    ">>> expr = expr.subs(y, x**x)\n",
    ">>> expr\n",
    "x**(x**(x**x))\n",
    "\n",
    "The second is if we want to perform a"
   ]
  },
  {
   "cell_type": "markdown",
   "metadata": {},
   "source": [
    "## Tables\n",
    "PyTables is a package for managing hierarchical datasets and designed to efficiently and easily cope with extremely large amounts of data. PyTables is built on top of the HDF5 library, using the Python language and the NumPy package. It features an object-oriented interface that, combined with C extensions for the performance-critical parts of the code (generated using Cython), makes it a fast, yet extremely easy to use tool for interactively browse, process and search very large amounts of data. One important feature of PyTables is that it optimizes memory and disk resources so that data takes much less space (specially if on-flight compression is used) than other solutions such as relational or object oriented databases.\n",
    "\n",
    "[Documentation](https://www.pytables.org/index.html)\n",
    "[Tutorials](https://www.pytables.org/usersguide/tutorials.html)\n",
    "[Source Code](https://github.com/PyTables/PyTables)\n"
   ]
  },
  {
   "cell_type": "code",
   "execution_count": null,
   "metadata": {},
   "outputs": [],
   "source": []
  }
 ],
 "metadata": {
  "kernelspec": {
   "display_name": "Python 3",
   "language": "python",
   "name": "python3"
  },
  "language_info": {
   "codemirror_mode": {
    "name": "ipython",
    "version": 3
   },
   "file_extension": ".py",
   "mimetype": "text/x-python",
   "name": "python",
   "nbconvert_exporter": "python",
   "pygments_lexer": "ipython3",
   "version": "3.6.8"
  }
 },
 "nbformat": 4,
 "nbformat_minor": 4
}
